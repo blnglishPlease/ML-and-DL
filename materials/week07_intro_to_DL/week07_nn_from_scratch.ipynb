{
  "cells": [
    {
      "cell_type": "markdown",
      "metadata": {
        "id": "y52NVPGGb9HK"
      },
      "source": [
        "# Neural network from scratch.\n",
        "\n",
        "Based on YSDA Deep Learning course materials."
      ]
    },
    {
      "cell_type": "code",
      "execution_count": 1,
      "metadata": {
        "id": "g3VtqtjUb9HL"
      },
      "outputs": [],
      "source": [
        "%matplotlib inline\n",
        "from time import time, sleep\n",
        "import numpy as np\n",
        "import matplotlib.pyplot as plt\n",
        "from IPython import display"
      ]
    },
    {
      "cell_type": "markdown",
      "metadata": {
        "id": "0Jl03f_Jb9HM"
      },
      "source": [
        "We will implement most common layers using `numpy` for matrix operations. In file `modules.py` are presented the abstract classes for layer, criterion and sequential model class.\n",
        "\n",
        "The architecture, naming and API are inspired py PyTorch implementation, which will be used in this course further. \n",
        "\n",
        "Please, __do not__ change the classes/functions signatures."
      ]
    },
    {
      "cell_type": "code",
      "execution_count": 2,
      "metadata": {
        "id": "YJBbsUaEb9HN"
      },
      "outputs": [],
      "source": [
        "# ! wget https://raw.githubusercontent.com/blnglishPlease/ML-and-DL/main/materials/week07_intro_to_DL/modules.py\n",
        "\n",
        "# from modules import Module, Sequential, Criterion"
      ]
    },
    {
      "cell_type": "markdown",
      "metadata": {
        "id": "R2VlWiZJb9HN"
      },
      "source": [
        "## Some comments\n",
        "Original `numpy` operation are more preferable than overloaded ones (`+`, `*`, `-`, etc. vs `np.add`, `np.multiply`, `np.substract`). They show more expectable memory usage and seem unified with tensor frameworks.\n",
        "\n",
        "*Example:*\n",
        "\n",
        "```\n",
        "a = np.zeros_like(arr1)\n",
        "\n",
        "a = arr1 + arr2 #  bad, we reallocate memory for the result of + operation\n",
        "\n",
        "a = np.zeros_like(arr1)\n",
        "\n",
        "np.add(arr1, arr2, out=a) #  good, we use same allocated memory, no need to call gc\n",
        "```"
      ]
    },
    {
      "cell_type": "markdown",
      "metadata": {
        "id": "unb3Da-db9HN"
      },
      "source": [
        "Before we begin: a [great playground](https://playground.tensorflow.org) to look at."
      ]
    },
    {
      "cell_type": "markdown",
      "metadata": {
        "id": "edUF7OBab9HN"
      },
      "source": [
        "Try to implement main layers in numpy. Today we stop only on most common ones."
      ]
    },
    {
      "cell_type": "markdown",
      "metadata": {
        "id": "H2skjSaeb9HO"
      },
      "source": [
        "Good read on [Vector, Matrix and Tensor derivatives](http://cs231n.stanford.edu/vecDerivs.pdf)"
      ]
    },
    {
      "cell_type": "markdown",
      "source": [
        "## Module"
      ],
      "metadata": {
        "id": "icq1MXV1iept"
      }
    },
    {
      "cell_type": "code",
      "source": [
        "class Module(object):\n",
        "    \"\"\"\n",
        "    Basically, you can think of a module as of a something (black box) \n",
        "    which can process `input` data and produce `ouput` data.\n",
        "    This is like applying a function which is called `forward`: \n",
        "        \n",
        "        output = module.forward(input)\n",
        "    \n",
        "    The module should be able to perform a backward pass: to differentiate the `forward` function. \n",
        "    More, it should be able to differentiate it if is a part of chain (chain rule).\n",
        "    The latter implies there is a gradient from previous step of a chain rule. \n",
        "    \n",
        "        gradInput = module.backward(input, gradOutput)\n",
        "    \"\"\"\n",
        "    def __init__ (self):\n",
        "        self.output = None\n",
        "        self.gradInput = None\n",
        "        self.training = True\n",
        "    \n",
        "    def forward(self, input):\n",
        "        \"\"\"\n",
        "        Takes an input object, and computes the corresponding output of the module.\n",
        "        \"\"\"\n",
        "        return self.updateOutput(input)\n",
        "\n",
        "    def backward(self,input, gradOutput):\n",
        "        \"\"\"\n",
        "        Performs a backpropagation step through the module, with respect to the given input.\n",
        "        \n",
        "        This includes \n",
        "         - computing a gradient w.r.t. `input` (is needed for further backprop),\n",
        "         - computing a gradient w.r.t. parameters (to update parameters while optimizing).\n",
        "        \"\"\"\n",
        "        self.updateGradInput(input, gradOutput)\n",
        "        self.accGradParameters(input, gradOutput)\n",
        "        return self.gradInput\n",
        "    \n",
        "\n",
        "    def updateOutput(self, input):\n",
        "        \"\"\"\n",
        "        Computes the output using the current parameter set of the class and input.\n",
        "        This function returns the result which is stored in the `output` field.\n",
        "        \n",
        "        Make sure to both store the data in `output` field and return it. \n",
        "        \"\"\"\n",
        "        \n",
        "        # The easiest case:\n",
        "            \n",
        "        # self.output = input \n",
        "        # return self.output\n",
        "        \n",
        "        pass\n",
        "\n",
        "    def updateGradInput(self, input, gradOutput):\n",
        "        \"\"\"\n",
        "        Computing the gradient of the module with respect to its own input. \n",
        "        This is returned in `gradInput`. Also, the `gradInput` state variable is updated accordingly.\n",
        "        \n",
        "        The shape of `gradInput` is always the same as the shape of `input`.\n",
        "        \n",
        "        Make sure to both store the gradients in `gradInput` field and return it.\n",
        "        \"\"\"\n",
        "        \n",
        "        # The easiest case:\n",
        "        \n",
        "        # self.gradInput = gradOutput \n",
        "        # return self.gradInput\n",
        "        \n",
        "        pass   \n",
        "    \n",
        "    def accGradParameters(self, input, gradOutput):\n",
        "        \"\"\"\n",
        "        Computing the gradient of the module with respect to its own parameters.\n",
        "        No need to override if module has no parameters (e.g. ReLU).\n",
        "        \"\"\"\n",
        "        pass\n",
        "    \n",
        "    def zeroGradParameters(self): \n",
        "        \"\"\"\n",
        "        Zeroes `gradParams` variable if the module has params.\n",
        "        \"\"\"\n",
        "        pass\n",
        "        \n",
        "    def getParameters(self):\n",
        "        \"\"\"\n",
        "        Returns a list with its parameters. \n",
        "        If the module does not have parameters return empty list. \n",
        "        \"\"\"\n",
        "        return []\n",
        "        \n",
        "    def getGradParameters(self):\n",
        "        \"\"\"\n",
        "        Returns a list with gradients with respect to its parameters. \n",
        "        If the module does not have parameters return empty list. \n",
        "        \"\"\"\n",
        "        return []\n",
        "    \n",
        "    def train(self):\n",
        "        \"\"\"\n",
        "        Sets training mode for the module.\n",
        "        Training and testing behaviour differs for Dropout, BatchNorm.\n",
        "        \"\"\"\n",
        "        self.training = True\n",
        "    \n",
        "    def evaluate(self):\n",
        "        \"\"\"\n",
        "        Sets evaluation mode for the module.\n",
        "        Training and testing behaviour differs for Dropout, BatchNorm.\n",
        "        \"\"\"\n",
        "        self.training = False\n",
        "    \n",
        "    def __repr__(self):\n",
        "        \"\"\"\n",
        "        Pretty printing. Should be overrided in every module if you want \n",
        "        to have readable description. \n",
        "        \"\"\"\n",
        "        return \"Module\""
      ],
      "metadata": {
        "id": "A92Y1tnuij6_"
      },
      "execution_count": 3,
      "outputs": []
    },
    {
      "cell_type": "markdown",
      "source": [
        "## Sequential container"
      ],
      "metadata": {
        "id": "V8ggQj-Hiuyk"
      }
    },
    {
      "cell_type": "code",
      "source": [
        "class Sequential(Module):\n",
        "    \"\"\"\n",
        "         This class implements a container, which processes `input` data sequentially. \n",
        "         \n",
        "         `input` is processed by each module (layer) in self.modules consecutively.\n",
        "         The resulting array is called `output`. \n",
        "    \"\"\"\n",
        "    \n",
        "    def __init__ (self):\n",
        "        super(Sequential, self).__init__()\n",
        "        self.modules = []\n",
        "   \n",
        "    def add(self, module):\n",
        "        \"\"\"\n",
        "        Adds a module to the container.\n",
        "        \"\"\"\n",
        "        self.modules.append(module)\n",
        "\n",
        "    def updateOutput(self, input):\n",
        "        \"\"\"\n",
        "        Basic workflow of FORWARD PASS:\n",
        "        \n",
        "            y_0    = module[0].forward(input)\n",
        "            y_1    = module[1].forward(y_0)\n",
        "            ...\n",
        "            output = module[n-1].forward(y_{n-2})   \n",
        "            \n",
        "            \n",
        "        Just write a little loop. \n",
        "        \"\"\"\n",
        "\n",
        "        # Your code goes here. #\n",
        "        for elem in self.modules:\n",
        "            input = elem.forward(input)\n",
        "        self.output = input \n",
        "        return self.output\n",
        "\n",
        "    def backward(self, input, gradOutput):\n",
        "        \"\"\"\n",
        "        Workflow of BACKWARD PASS:\n",
        "            \n",
        "            g_{n-1} = module[n-1].backward(y_{n-2}, gradOutput)\n",
        "            g_{n-2} = module[n-2].backward(y_{n-3}, g_{n-1})\n",
        "            ...\n",
        "            g_1 = module[1].backward(y_0, g_2)   \n",
        "            gradInput = module[0].backward(input, g_1)   \n",
        "             \n",
        "             \n",
        "        !!!\n",
        "                \n",
        "        To ech module you need to provide the input, module saw while forward pass, \n",
        "        it is used while computing gradients. \n",
        "        Make sure that the input for `i-th` layer the output of `module[i]` (just the same input as in forward pass) \n",
        "        and NOT `input` to this Sequential module. \n",
        "        \n",
        "        !!!\n",
        "        \n",
        "        \"\"\"\n",
        "        # Your code goes here. #\n",
        "        grad = gradOutput\n",
        "        for i in range(len(self.modules) - 1, 0, -1):\n",
        "            grad = self.modules[i].backward(self.modules[i-1].output, grad)\n",
        "        self.gradInput = self.modules[0].backward(input, grad)\n",
        "        return self.gradInput\n",
        "      \n",
        "\n",
        "    def zeroGradParameters(self): \n",
        "        for module in self.modules:\n",
        "            module.zeroGradParameters()\n",
        "    \n",
        "    def getParameters(self):\n",
        "        \"\"\"\n",
        "        Should gather all parameters in a list.\n",
        "        \"\"\"\n",
        "        return [x.getParameters() for x in self.modules]\n",
        "    \n",
        "    def getGradParameters(self):\n",
        "        \"\"\"\n",
        "        Should gather all gradients w.r.t parameters in a list.\n",
        "        \"\"\"\n",
        "        return [x.getGradParameters() for x in self.modules]\n",
        "    \n",
        "    def __repr__(self):\n",
        "        string = \"\".join([str(x) + '\\n' for x in self.modules])\n",
        "        return string\n",
        "    \n",
        "    def __getitem__(self,x):\n",
        "        return self.modules.__getitem__(x)\n",
        "    \n",
        "    def train(self):\n",
        "        \"\"\"\n",
        "        Propagates training parameter through all modules\n",
        "        \"\"\"\n",
        "        self.training = True\n",
        "        for module in self.modules:\n",
        "            module.train()\n",
        "    \n",
        "    def evaluate(self):\n",
        "        \"\"\"\n",
        "        Propagates training parameter through all modules\n",
        "        \"\"\"\n",
        "        self.training = False\n",
        "        for module in self.modules:\n",
        "            module.evaluate()"
      ],
      "metadata": {
        "id": "qLpEyX_Ci0yj"
      },
      "execution_count": 4,
      "outputs": []
    },
    {
      "cell_type": "markdown",
      "source": [
        "\n",
        "\n",
        "---\n",
        "\n"
      ],
      "metadata": {
        "id": "hDUaig-Dv-RL"
      }
    },
    {
      "cell_type": "markdown",
      "metadata": {
        "id": "8tWR7fiMb9HN"
      },
      "source": [
        "## Layers"
      ]
    },
    {
      "cell_type": "markdown",
      "source": [
        "### Linear transform layer"
      ],
      "metadata": {
        "id": "9C3f-ua2hfpx"
      }
    },
    {
      "cell_type": "markdown",
      "source": [
        "Also known as dense layer, fully-connected layer, FC-layer, InnerProductLayer (in caffe), affine transform\n",
        "- input:   **`batch_size x n_feats1`**\n",
        "- output: **`batch_size x n_feats2`**"
      ],
      "metadata": {
        "id": "c0MZVTZRkYcy"
      }
    },
    {
      "cell_type": "code",
      "execution_count": 5,
      "metadata": {
        "id": "nXdDnj3kb9HO"
      },
      "outputs": [],
      "source": [
        "class Linear(Module):\n",
        "    \"\"\"\n",
        "    A module which applies a linear transformation \n",
        "    A common name is fully-connected layer, InnerProductLayer in caffe. \n",
        "    \n",
        "    The module should work with 2D input of shape (n_samples, n_feature).\n",
        "    \"\"\"\n",
        "    def __init__(self, n_in, n_out):\n",
        "        super(Linear, self).__init__()\n",
        "       \n",
        "        # This is a nice initialization\n",
        "        stdv = 1./np.sqrt(n_in)\n",
        "        self.W = np.random.uniform(-stdv, stdv, size = (n_out, n_in))\n",
        "        self.b = np.random.uniform(-stdv, stdv, size = n_out)\n",
        "        \n",
        "        self.gradW = np.zeros_like(self.W)\n",
        "        self.gradb = np.zeros_like(self.b)\n",
        "        \n",
        "    def updateOutput(self, input):\n",
        "        # Your code goes here. ################################################\n",
        "        self.output = input@self.W.T + self.b\n",
        "        return self.output\n",
        "    \n",
        "    def updateGradInput(self, input, gradOutput):\n",
        "        # Your code goes here. ################################################\n",
        "        self.gradInput = gradOutput@self.W\n",
        "        return self.gradInput\n",
        "    \n",
        "    def accGradParameters(self, input, gradOutput):\n",
        "        # Your code goes here. ################################################\n",
        "        self.gradW = np.sum(input[:, None, :] * gradOutput[:, :, None], axis=0)\n",
        "        self.gradb = np.sum(gradOutput, axis=0)\n",
        "        pass\n",
        "    \n",
        "    def zeroGradParameters(self):\n",
        "        self.gradW.fill(0)\n",
        "        self.gradb.fill(0)\n",
        "        \n",
        "    def getParameters(self):\n",
        "        return [self.W, self.b]\n",
        "    \n",
        "    def getGradParameters(self):\n",
        "        return [self.gradW, self.gradb]\n",
        "    \n",
        "    def __repr__(self):\n",
        "        s = self.W.shape\n",
        "        q = 'Linear %d -> %d' %(s[1],s[0])\n",
        "        return q"
      ]
    },
    {
      "cell_type": "markdown",
      "source": [
        "### SoftMax"
      ],
      "metadata": {
        "id": "tWZBhB0DhtBI"
      }
    },
    {
      "cell_type": "markdown",
      "source": [
        "- input:   **`batch_size x n_feats`**\n",
        "- output: **`batch_size x n_feats`**\n",
        "\n",
        "$\\text{softmax}(x)_i = \\frac{\\exp x_i} {\\sum_j \\exp x_j}$\n",
        "\n",
        "Recall that $\\text{softmax}(x) == \\text{softmax}(x - \\text{const})$. It makes possible to avoid computing exp() from large argument.\n"
      ],
      "metadata": {
        "id": "crLz9EcLkgov"
      }
    },
    {
      "cell_type": "code",
      "execution_count": 6,
      "metadata": {
        "id": "_QIz8Gghb9HO"
      },
      "outputs": [],
      "source": [
        "class SoftMax(Module):\n",
        "    def __init__(self):\n",
        "         super(SoftMax, self).__init__()\n",
        "    \n",
        "    def updateOutput(self, input):\n",
        "        # start with normalization for numerical stability\n",
        "        self.output = np.subtract(input, input.max(axis=1, keepdims=True))\n",
        "        \n",
        "        # Your code goes here. ################################################\n",
        "        np.exp(self.output, out=self.output)\n",
        "        np.divide(self.output, self.output.sum(axis=1, keepdims=True), out=self.output)\n",
        "        return self.output\n",
        "    \n",
        "    def updateGradInput(self, input, gradOutput):\n",
        "        # Your code goes here. ################################################\n",
        "        size = input.shape[-1]\n",
        "        gradSoft = -self.output[:, :, None]*self.output[:, None, :]\n",
        "        gradSoft[:, range(size), range(size)] += np.sqrt(-gradSoft[:, range(size), range(size)])\n",
        "        self.gradInput = np.squeeze(gradOutput[:, None, :] @ gradSoft)\n",
        "        return self.gradInput\n",
        "    \n",
        "    def __repr__(self):\n",
        "        return \"SoftMax\""
      ]
    },
    {
      "cell_type": "markdown",
      "source": [
        "### LogSoftMax"
      ],
      "metadata": {
        "id": "_GHsO5qyhvhn"
      }
    },
    {
      "cell_type": "markdown",
      "source": [
        "- input:   **`batch_size x n_feats`**\n",
        "- output: **`batch_size x n_feats`**\n",
        "\n",
        "$\\text{logsoftmax}(x)_i = \\log\\text{softmax}(x)_i = x_i - \\log {\\sum_j \\exp x_j}$\n",
        "\n",
        "The main goal of this layer is to be used in computation of log-likelihood loss."
      ],
      "metadata": {
        "id": "2ns8ttJlk5x-"
      }
    },
    {
      "cell_type": "code",
      "execution_count": 7,
      "metadata": {
        "id": "PxFR_5FQb9HP"
      },
      "outputs": [],
      "source": [
        "class LogSoftMax(Module):\n",
        "    def __init__(self):\n",
        "         super(LogSoftMax, self).__init__()\n",
        "    \n",
        "    def updateOutput(self, input):\n",
        "        # start with normalization for numerical stability\n",
        "        self.output = np.subtract(input, input.max(axis=1, keepdims=True))\n",
        "        \n",
        "        # Your code goes here. ################################################\n",
        "        np.exp(self.output, out=self.output)\n",
        "        np.divide(self.output, self.output.sum(axis=1, keepdims=True), out=self.output)\n",
        "        self.output = np.log(self.output)\n",
        "        return self.output\n",
        "    \n",
        "    def updateGradInput(self, input, gradOutput):\n",
        "        # Your code goes here. ################################################\n",
        "        grad = np.zeros((input.shape[0], input.shape[1], input.shape[1]))\n",
        "        normal = np.subtract(input, input.max(axis=1, keepdims=True) - 1)\n",
        "        normalSoftMax = 1 / np.sum(np.exp(normal), axis=1)\n",
        "        for x in range(input.shape[1]):\n",
        "            for y in range(input.shape[1]):\n",
        "                grad[:, x, y] = -normalSoftMax * np.exp(normal[:, y])\n",
        "            grad[:, x, x] += 1\n",
        "        self.gradInput = np.squeeze(gradOutput[:, None, :] @ grad)\n",
        "        return self.gradInput\n",
        "    \n",
        "    def __repr__(self):\n",
        "        return \"LogSoftMax\""
      ]
    },
    {
      "cell_type": "markdown",
      "source": [
        "### Batch Normalization"
      ],
      "metadata": {
        "id": "gugJ-mN9jYvI"
      }
    },
    {
      "cell_type": "markdown",
      "source": [
        "One of the most significant recent ideas that impacted NNs a lot is [**Batch normalization**](http://arxiv.org/abs/1502.03167). The idea is simple, yet effective: the features should be whitened ($mean = 0$, $std = 1$) all the way through NN. This improves the convergence for deep models letting it train them for days but not weeks. **You are** to implement the first part of the layer: features normalization. The second part (`ChannelwiseScaling` layer) is implemented below.\n",
        "\n",
        "- input:   **`batch_size x n_feats`**\n",
        "- output: **`batch_size x n_feats`**\n",
        "\n",
        "The layer should work as follows. While training (`self.training == True`) it transforms input as $$y = \\frac{x - \\mu}  {\\sqrt{\\sigma + \\epsilon}}$$\n",
        "where $\\mu$ and $\\sigma$ - mean and variance of feature values in **batch** and $\\epsilon$ is just a small number for numericall stability. Also during training, layer should maintain exponential moving average values for mean and variance: \n",
        "```\n",
        "    self.moving_mean = self.moving_mean * alpha + batch_mean * (1 - alpha)\n",
        "    self.moving_variance = self.moving_variance * alpha + batch_variance * (1 - alpha)\n",
        "```\n",
        "During testing (`self.training == False`) the layer normalizes input using moving_mean and moving_variance. \n",
        "\n",
        "Note that decomposition of batch normalization on normalization itself and channelwise scaling here is just a common **implementation** choice. In general \"batch normalization\" always assumes normalization + scaling.\n"
      ],
      "metadata": {
        "id": "vI4M6fPSjmrK"
      }
    },
    {
      "cell_type": "code",
      "source": [
        "class BatchNormalization(Module):\n",
        "    \n",
        "    def __init__(self, alpha = 0.):\n",
        "        super(BatchNormalization, self).__init__()\n",
        "        self.alpha = alpha\n",
        "        self.moving_mean = None \n",
        "        self.moving_variance = None\n",
        "        self.EPS = 1e-3\n",
        "        \n",
        "    def updateOutput(self, input):\n",
        "        # Your code goes here. #\n",
        "        # use self.EPS please\n",
        "        if self.training:\n",
        "            var = np.var(input, axis=0)\n",
        "            mean = np.mean(input, axis=0)\n",
        "            self.output = (input - mean) / np.sqrt(var + self.EPS)\n",
        "            if self.moving_mean is None:\n",
        "                self.moving_mean = mean\n",
        "                self.moving_variance = var\n",
        "            else:\n",
        "                self.moving_mean = self.moving_mean * self.alpha + mean * (1 - self.alpha)\n",
        "                self.moving_variance = self.moving_variance * self.alpha + var * (1 - self.alpha)\n",
        "        else:\n",
        "            var = self.moving_variance\n",
        "            mean = self.moving_mean\n",
        "            self.output = (input - mean) / np.sqrt(var + self.EPS) \n",
        "        return self.output\n",
        "    \n",
        "    def updateGradInput(self, input, gradOutput):\n",
        "        # Your code goes here. #\n",
        "        var = np.var(input, axis=0)\n",
        "        norm = input - np.mean(input, axis=0)                  \n",
        "        sqvar = np.sqrt(var + self.EPS)\n",
        "        self.gradInput = (gradOutput - np.mean(gradOutput, axis=0) - \\\n",
        "                          np.mean(gradOutput * norm, axis=0) * norm / (var + self.EPS)) / sqvar\n",
        "        return self.gradInput\n",
        "    \n",
        "    def __repr__(self):\n",
        "        return \"BatchNormalization\""
      ],
      "metadata": {
        "id": "IycXCs-WjaHz"
      },
      "execution_count": 8,
      "outputs": []
    },
    {
      "cell_type": "markdown",
      "source": [
        "Practical notes. If BatchNormalization is placed after a linear transformation layer (including dense layer, convolutions, channelwise scaling) that implements function like `y = weight * x + bias`, than bias adding become useless and could be omitted since its effect will be discarded while batch mean subtraction. If BatchNormalization (followed by `ChannelwiseScaling`) is placed before a layer that propagates scale (including ReLU, LeakyReLU) followed by any linear transformation layer than parameter `gamma` in `ChannelwiseScaling` could be freezed since it could be absorbed into the linear transformation layer."
      ],
      "metadata": {
        "id": "lxb0pho7j3-l"
      }
    },
    {
      "cell_type": "markdown",
      "source": [
        "### Channelwise Scaling"
      ],
      "metadata": {
        "id": "jfpOL7DllJxp"
      }
    },
    {
      "cell_type": "code",
      "source": [
        "class ChannelwiseScaling(Module):\n",
        "    \"\"\"\n",
        "       Implements linear transform of input y = \\gamma * x + \\beta\n",
        "       where \\gamma, \\beta - learnable vectors of length x.shape[-1]\n",
        "    \"\"\"\n",
        "    def __init__(self, n_out):\n",
        "        super(ChannelwiseScaling, self).__init__()\n",
        "\n",
        "        stdv = 1./np.sqrt(n_out)\n",
        "        self.gamma = np.random.uniform(-stdv, stdv, size=n_out)\n",
        "        self.beta = np.random.uniform(-stdv, stdv, size=n_out)\n",
        "        \n",
        "        self.gradGamma = np.zeros_like(self.gamma)\n",
        "        self.gradBeta = np.zeros_like(self.beta)\n",
        "\n",
        "    def updateOutput(self, input):\n",
        "        self.output = input * self.gamma + self.beta\n",
        "        return self.output\n",
        "        \n",
        "    def updateGradInput(self, input, gradOutput):\n",
        "        self.gradInput = gradOutput * self.gamma\n",
        "        return self.gradInput\n",
        "    \n",
        "    def accGradParameters(self, input, gradOutput):\n",
        "        self.gradBeta = np.sum(gradOutput, axis=0)\n",
        "        self.gradGamma = np.sum(gradOutput*input, axis=0)\n",
        "    \n",
        "    def zeroGradParameters(self):\n",
        "        self.gradGamma.fill(0)\n",
        "        self.gradBeta.fill(0)\n",
        "        \n",
        "    def getParameters(self):\n",
        "        return [self.gamma, self.beta]\n",
        "    \n",
        "    def getGradParameters(self):\n",
        "        return [self.gradGamma, self.gradBeta]\n",
        "    \n",
        "    def __repr__(self):\n",
        "        return \"ChannelwiseScaling\""
      ],
      "metadata": {
        "id": "RBcaHj_ClKo0"
      },
      "execution_count": 9,
      "outputs": []
    },
    {
      "cell_type": "markdown",
      "source": [
        "### Dropout"
      ],
      "metadata": {
        "id": "UKaDIPBClgQR"
      }
    },
    {
      "cell_type": "markdown",
      "source": [
        "Implement [**dropout**](https://www.cs.toronto.edu/~hinton/absps/JMLRdropout.pdf). The idea and implementation is really simple: just multimply the input by $Bernoulli(p)$ mask. Here $p$ is probability of an element to be zeroed.\n",
        "\n",
        "This has proven to be an effective technique for regularization and preventing the co-adaptation of neurons.\n",
        "\n",
        "While training (`self.training == True`) it should sample a mask on each iteration (for every batch), zero out elements and multiply elements by $1 / (1 - p)$. The latter is needed for keeping mean values of features close to mean values which will be in test mode. When testing this module should implement identity transform i.e. `self.output = input`.\n",
        "\n",
        "- input:   **`batch_size x n_feats`**\n",
        "- output: **`batch_size x n_feats`**"
      ],
      "metadata": {
        "id": "q-cCPitrln8K"
      }
    },
    {
      "cell_type": "code",
      "source": [
        "class Dropout(Module):\n",
        "    def __init__(self, p=0.5):\n",
        "        super(Dropout, self).__init__()\n",
        "        \n",
        "        self.p = p\n",
        "        self.mask = None\n",
        "        \n",
        "    def updateOutput(self, input):\n",
        "        # Your code goes here. #\n",
        "        self.output = input\n",
        "        if self.training:\n",
        "            self.mask = np.random.binomial(1, 1. - self.p, input.shape)\n",
        "            self.output = input * self.mask / (1. - self.p)\n",
        "        return  self.output\n",
        "    \n",
        "    def updateGradInput(self, input, gradOutput):\n",
        "        # Your code goes here. #\n",
        "        self.gradInput = gradOutput * self.mask / (1 - self.p)\n",
        "        return self.gradInput\n",
        "        \n",
        "    def __repr__(self):\n",
        "        return \"Dropout\""
      ],
      "metadata": {
        "id": "Qp69_Icllqjm"
      },
      "execution_count": 10,
      "outputs": []
    },
    {
      "cell_type": "markdown",
      "source": [
        "\n",
        "\n",
        "---\n",
        "\n"
      ],
      "metadata": {
        "id": "TiNGpKnIv7wW"
      }
    },
    {
      "cell_type": "markdown",
      "source": [
        "## Activation functions"
      ],
      "metadata": {
        "id": "7TfJUkniltEE"
      }
    },
    {
      "cell_type": "markdown",
      "source": [
        "### ReLU"
      ],
      "metadata": {
        "id": "yw_q9STth1Ur"
      }
    },
    {
      "cell_type": "markdown",
      "source": [
        "Here's the complete example for the **Rectified Linear Unit** non-linearity (aka **ReLU**):"
      ],
      "metadata": {
        "id": "NPfpcq6HlyHP"
      }
    },
    {
      "cell_type": "code",
      "execution_count": 11,
      "metadata": {
        "id": "1hoROh0xb9HP"
      },
      "outputs": [],
      "source": [
        "class ReLU(Module):\n",
        "    def __init__(self):\n",
        "         super(ReLU, self).__init__()\n",
        "    \n",
        "    def updateOutput(self, _input):\n",
        "        self.output = np.maximum(_input, 0)\n",
        "        return self.output\n",
        "    \n",
        "    def updateGradInput(self, _input, gradOutput):\n",
        "        self.gradInput = np.multiply(gradOutput , _input > 0)\n",
        "        return self.gradInput\n",
        "    \n",
        "    def __repr__(self):\n",
        "        return \"ReLU\""
      ]
    },
    {
      "cell_type": "markdown",
      "source": [
        "### LeakyReLU"
      ],
      "metadata": {
        "id": "6lQGjzwIh530"
      }
    },
    {
      "cell_type": "markdown",
      "source": [
        "Implement [**Leaky Rectified Linear Unit**](http://en.wikipedia.org/wiki%2FRectifier_%28neural_networks%29%23Leaky_ReLUs). Expriment with slope. \n"
      ],
      "metadata": {
        "id": "3qtxZtibl7D8"
      }
    },
    {
      "cell_type": "code",
      "execution_count": 12,
      "metadata": {
        "id": "eLgaB5Qmb9HP"
      },
      "outputs": [],
      "source": [
        "class LeakyReLU(Module):\n",
        "    def __init__(self, slope = 0.03):\n",
        "        super(LeakyReLU, self).__init__()\n",
        "            \n",
        "        self.slope = slope\n",
        "        \n",
        "    def updateOutput(self, input):\n",
        "        # Your code goes here. #\n",
        "        self.output = np.maximum(input, 0) + np.minimum(input, 0)*self.slope\n",
        "        return  self.output\n",
        "    \n",
        "    def updateGradInput(self, input, gradOutput):\n",
        "        # Your code goes here. #\n",
        "        self.gradInput = np.multiply(gradOutput, input > 0) + np.multiply(gradOutput, input < 0) * self.slope\n",
        "        return self.gradInput\n",
        "    \n",
        "    def __repr__(self):\n",
        "        return \"LeakyReLU\""
      ]
    },
    {
      "cell_type": "markdown",
      "source": [
        "### ELU"
      ],
      "metadata": {
        "id": "NSWqWWeemACE"
      }
    },
    {
      "cell_type": "markdown",
      "source": [
        "Implement [**Exponential Linear Units**](http://arxiv.org/abs/1511.07289) activations.\n"
      ],
      "metadata": {
        "id": "Vcv8uywjmBdz"
      }
    },
    {
      "cell_type": "code",
      "source": [
        "class ELU(Module):\n",
        "    def __init__(self, alpha = 1.0):\n",
        "        super(ELU, self).__init__()\n",
        "        \n",
        "        self.alpha = alpha\n",
        "        \n",
        "    def updateOutput(self, input):\n",
        "        # Your code goes here. #\n",
        "        self.output = np.minimum(0, (np.exp(input) - 1) * self.alpha) + np.maximum(0, input) \n",
        "        return  self.output\n",
        "    \n",
        "    def updateGradInput(self, input, gradOutput):\n",
        "        # Your code goes here. #\n",
        "        self.gradInput = self.alpha * np.exp(input) * np.multiply(gradOutput, input < 0) +\\\n",
        "                         np.multiply(gradOutput, input > 0)\n",
        "        return self.gradInput\n",
        "    \n",
        "    def __repr__(self):\n",
        "        return \"ELU\""
      ],
      "metadata": {
        "id": "m43d-m0rmB_n"
      },
      "execution_count": 13,
      "outputs": []
    },
    {
      "cell_type": "markdown",
      "source": [
        "### SoftPlus\n",
        "\n"
      ],
      "metadata": {
        "id": "qr7zzS6GmKX1"
      }
    },
    {
      "cell_type": "markdown",
      "source": [
        "Implement [**SoftPlus**](https://en.wikipedia.org/wiki%2FRectifier_%28neural_networks%29) activations. Look, how they look a lot like ReLU."
      ],
      "metadata": {
        "id": "5vtD0V2ImNND"
      }
    },
    {
      "cell_type": "code",
      "source": [
        "class SoftPlus(Module):\n",
        "    def __init__(self):\n",
        "        super(SoftPlus, self).__init__()\n",
        "    \n",
        "    def updateOutput(self, input):\n",
        "        # Your code goes here. #\n",
        "        self.output = np.log(np.exp(input) + 1)\n",
        "        return  self.output\n",
        "    \n",
        "    def updateGradInput(self, input, gradOutput):\n",
        "        # Your code goes here. #\n",
        "        self.gradInput = np.multiply(gradOutput, 1 / (np.exp(-input) + 1))\n",
        "        return self.gradInput\n",
        "    \n",
        "    def __repr__(self):\n",
        "        return \"SoftPlus\""
      ],
      "metadata": {
        "id": "BBptnwsDmN-v"
      },
      "execution_count": 14,
      "outputs": []
    },
    {
      "cell_type": "markdown",
      "source": [
        "\n",
        "\n",
        "---\n",
        "\n"
      ],
      "metadata": {
        "id": "aKcKea9Bv6a9"
      }
    },
    {
      "cell_type": "markdown",
      "source": [
        "## Criterions"
      ],
      "metadata": {
        "id": "hi_Q3njHmT-7"
      }
    },
    {
      "cell_type": "markdown",
      "source": [
        "Criterions are used to score the models answers.\n"
      ],
      "metadata": {
        "id": "9iNSLALMmWLw"
      }
    },
    {
      "cell_type": "code",
      "source": [
        "class Criterion(object):\n",
        "    def __init__ (self):\n",
        "        self.output = None\n",
        "        self.gradInput = None\n",
        "        \n",
        "    def forward(self, input, target):\n",
        "        \"\"\"\n",
        "            Given an input and a target, compute the loss function \n",
        "            associated to the criterion and return the result.\n",
        "            \n",
        "            For consistency this function should not be overrided,\n",
        "            all the code goes in `updateOutput`.\n",
        "        \"\"\"\n",
        "        return self.updateOutput(input, target)\n",
        "\n",
        "    def backward(self, input, target):\n",
        "        \"\"\"\n",
        "            Given an input and a target, compute the gradients of the loss function\n",
        "            associated to the criterion and return the result. \n",
        "\n",
        "            For consistency this function should not be overrided,\n",
        "            all the code goes in `updateGradInput`.\n",
        "        \"\"\"\n",
        "        return self.updateGradInput(input, target)\n",
        "    \n",
        "    def updateOutput(self, input, target):\n",
        "        \"\"\"\n",
        "        Function to override.\n",
        "        \"\"\"\n",
        "        return self.output\n",
        "\n",
        "    def updateGradInput(self, input, target):\n",
        "        \"\"\"\n",
        "        Function to override.\n",
        "        \"\"\"\n",
        "        return self.gradInput   \n",
        "\n",
        "    def __repr__(self):\n",
        "        \"\"\"\n",
        "        Pretty printing. Should be overrided in every module if you want \n",
        "        to have readable description. \n",
        "        \"\"\"\n",
        "        return \"Criterion\""
      ],
      "metadata": {
        "id": "mmJ-nw48maJr"
      },
      "execution_count": 15,
      "outputs": []
    },
    {
      "cell_type": "markdown",
      "source": [
        "### MSE Criterion"
      ],
      "metadata": {
        "id": "MyzkrWPSmgVM"
      }
    },
    {
      "cell_type": "markdown",
      "source": [
        "The **MSECriterion**, which is basic L2 norm usually used for regression, is implemented here for you.\n",
        "- input:   **`batch_size x n_feats`**\n",
        "- target: **`batch_size x n_feats`**\n",
        "- output: **scalar**"
      ],
      "metadata": {
        "id": "UR89ayf4mjk7"
      }
    },
    {
      "cell_type": "code",
      "source": [
        "class MSECriterion(Criterion):\n",
        "    def __init__(self):\n",
        "        super(MSECriterion, self).__init__()\n",
        "        \n",
        "    def updateOutput(self, input, target):   \n",
        "        self.output = np.sum(np.power(input - target, 2)) / input.shape[0]\n",
        "        return self.output \n",
        " \n",
        "    def updateGradInput(self, input, target):\n",
        "        self.gradInput  = (input - target) * 2 / input.shape[0]\n",
        "        return self.gradInput\n",
        "\n",
        "    def __repr__(self):\n",
        "        return \"MSECriterion\""
      ],
      "metadata": {
        "id": "-iFWwgFgmvdL"
      },
      "execution_count": 16,
      "outputs": []
    },
    {
      "cell_type": "markdown",
      "source": [
        "### Negative LogLikelihood criterion (numerically unstable)"
      ],
      "metadata": {
        "id": "87FSGZIoh89i"
      }
    },
    {
      "cell_type": "markdown",
      "source": [
        "Your task is to implement the **ClassNLLCriterion**. It should implement [multiclass log loss](http://scikit-learn.org/stable/modules/model_evaluation.html#log-loss). Nevertheless there is a sum over `y` (target) in that formula, \n",
        "remember that targets are one-hot encoded. This fact simplifies the computations a lot. Note, that criterions are the only places, where you divide by batch size. Also there is a small hack with adding small number to probabilities to avoid computing log(0).\n",
        "- input:   **`batch_size x n_feats`** - probabilities\n",
        "- target: **`batch_size x n_feats`** - one-hot representation of ground truth\n",
        "- output: **scalar**"
      ],
      "metadata": {
        "id": "8oCUpnKPm0JE"
      }
    },
    {
      "cell_type": "code",
      "execution_count": 17,
      "metadata": {
        "id": "FyJgIOZAb9HP"
      },
      "outputs": [],
      "source": [
        "class ClassNLLCriterionUnstable(Criterion):\n",
        "    EPS = 1e-15\n",
        "    def __init__(self):\n",
        "        a = super(ClassNLLCriterionUnstable, self)\n",
        "        super(ClassNLLCriterionUnstable, self).__init__()\n",
        "        \n",
        "    def updateOutput(self, input, target): \n",
        "        \n",
        "        # Use this trick to avoid numerical errors\n",
        "        input_clamp = np.clip(input, self.EPS, 1 - self.EPS)\n",
        "        \n",
        "        # Your code goes here. ################################################\n",
        "        self.output = -np.sum(target * np.log(input_clamp)) / input.shape[0]\n",
        "        return self.output\n",
        "\n",
        "    def updateGradInput(self, input, target):\n",
        "        \n",
        "        # Use this trick to avoid numerical errors\n",
        "        input_clamp = np.clip(input, self.EPS, 1 - self.EPS)\n",
        "                \n",
        "        # Your code goes here. ################################################\n",
        "        self.gradInput = -target / input.shape[0] / input_clamp\n",
        "        return self.gradInput\n",
        "    \n",
        "    def __repr__(self):\n",
        "        return \"ClassNLLCriterionUnstable\""
      ]
    },
    {
      "cell_type": "markdown",
      "source": [
        "### Negative LogLikelihood criterion (numerically stable)"
      ],
      "metadata": {
        "id": "lHJM6PTyiAbu"
      }
    },
    {
      "cell_type": "markdown",
      "source": [
        "- input:   **`batch_size x n_feats`** - log probabilities\n",
        "- target: **`batch_size x n_feats`** - one-hot representation of ground truth\n",
        "- output: **scalar**\n",
        "\n",
        "Task is similar to the previous one, but now the criterion input is the output of log-softmax layer. This decomposition allows us to avoid problems with computation of forward and backward of log().\n"
      ],
      "metadata": {
        "id": "2DuRr31Im-rc"
      }
    },
    {
      "cell_type": "code",
      "execution_count": 18,
      "metadata": {
        "id": "b-m_Pj9sb9HQ"
      },
      "outputs": [],
      "source": [
        "class ClassNLLCriterion(Criterion):\n",
        "    def __init__(self):\n",
        "        a = super(ClassNLLCriterion, self)\n",
        "        super(ClassNLLCriterion, self).__init__()\n",
        "        \n",
        "    def updateOutput(self, input, target): \n",
        "        # Your code goes here. ################################################\n",
        "        self.output = -np.sum(target*input) / input.shape[0]\n",
        "        return self.output\n",
        "\n",
        "    def updateGradInput(self, input, target):\n",
        "        # Your code goes here. ################################################\n",
        "        self.gradInput = -target / input.shape[0]\n",
        "        return self.gradInput\n",
        "    \n",
        "    def __repr__(self):\n",
        "        return \"ClassNLLCriterion\""
      ]
    },
    {
      "cell_type": "markdown",
      "source": [
        "\n",
        "\n",
        "---\n",
        "\n"
      ],
      "metadata": {
        "id": "9VjxefeMv4y_"
      }
    },
    {
      "cell_type": "markdown",
      "source": [
        "## Optimizers"
      ],
      "metadata": {
        "id": "oADf3_p9nEu2"
      }
    },
    {
      "cell_type": "markdown",
      "source": [
        "### Simple SGD"
      ],
      "metadata": {
        "id": "1aX9_VDWiCe5"
      }
    },
    {
      "cell_type": "code",
      "execution_count": 19,
      "metadata": {
        "id": "1GijYT56b9HQ"
      },
      "outputs": [],
      "source": [
        "def simple_sgd(variables, gradients, config, state):  \n",
        "    # 'variables' and 'gradients' have complex structure, accumulated_grads will be stored in a simpler one\n",
        "    state.setdefault('accumulated_grads', {})\n",
        "    \n",
        "    var_index = 0 \n",
        "    for current_layer_vars, current_layer_grads in zip(variables, gradients): \n",
        "        for current_var, current_grad in zip(current_layer_vars, current_layer_grads):\n",
        "            \n",
        "            current_var -= config['learning_rate'] * current_grad\n",
        "            var_index += 1     "
      ]
    },
    {
      "cell_type": "markdown",
      "source": [
        "### SGD optimizer with momentum"
      ],
      "metadata": {
        "id": "GkW_tI8rnHTL"
      }
    },
    {
      "cell_type": "markdown",
      "source": [
        "\n",
        "- `variables` - list of lists of variables (one list per layer)\n",
        "- `gradients` - list of lists of current gradients (same structure as for `variables`, one array for each var)\n",
        "- `config` - dict with optimization parameters (`learning_rate` and `momentum`)\n",
        "- `state` - dict with optimizator state (used to save accumulated gradients)"
      ],
      "metadata": {
        "id": "4r0XwXb9nNno"
      }
    },
    {
      "cell_type": "code",
      "source": [
        "def sgd_momentum(variables, gradients, config, state):  \n",
        "    # 'variables' and 'gradients' have complex structure, accumulated_grads will be stored in a simpler one\n",
        "    state.setdefault('accumulated_grads', {})\n",
        "    \n",
        "    var_index = 0 \n",
        "    for current_layer_vars, current_layer_grads in zip(variables, gradients): \n",
        "        for current_var, current_grad in zip(current_layer_vars, current_layer_grads):\n",
        "            \n",
        "            old_grad = state['accumulated_grads'].setdefault(var_index, np.zeros_like(current_grad))\n",
        "            \n",
        "            np.add(config['momentum'] * old_grad, config['learning_rate'] * current_grad, out=old_grad)\n",
        "            \n",
        "            current_var -= old_grad\n",
        "            var_index += 1"
      ],
      "metadata": {
        "id": "P6VHCw16nV4A"
      },
      "execution_count": 20,
      "outputs": []
    },
    {
      "cell_type": "markdown",
      "source": [
        "### [Adam](https://arxiv.org/pdf/1412.6980.pdf) optimizer"
      ],
      "metadata": {
        "id": "QLTIoNYNnWzU"
      }
    },
    {
      "cell_type": "markdown",
      "source": [
        "\n",
        "- `variables` - list of lists of variables (one list per layer)\n",
        "- `gradients` - list of lists of current gradients (same structure as for `variables`, one array for each var)\n",
        "- `config` - dict with optimization parameters (`learning_rate`, `beta1`, `beta2`, `epsilon`)\n",
        "- `state` - dict with optimizator state (used to save 1st and 2nd moment for vars)\n",
        "\n",
        "Formulas for optimizer:\n",
        "\n",
        "Current step learning rate: $$\\text{lr}_t = \\text{learning_rate} * \\frac{\\sqrt{1-\\beta_2^t}} {1-\\beta_1^t}$$\n",
        "First moment of var: $$\\mu_t = \\beta_1 * \\mu_{t-1} + (1 - \\beta_1)*g$$ \n",
        "Second moment of var: $$v_t = \\beta_2 * v_{t-1} + (1 - \\beta_2)*g*g$$\n",
        "New values of var: $$\\text{variable} = \\text{variable} - \\text{lr}_t * \\frac{m_t}{\\sqrt{v_t} + \\epsilon}$$"
      ],
      "metadata": {
        "id": "L6W98RrOne8J"
      }
    },
    {
      "cell_type": "code",
      "source": [
        "def adam_optimizer(variables, gradients, config, state):  \n",
        "    # 'variables' and 'gradients' have complex structure, accumulated_grads will be stored in a simpler one\n",
        "    state.setdefault('m', {})  # first moment vars\n",
        "    state.setdefault('v', {})  # second moment vars\n",
        "    state.setdefault('t', 0)   # timestamp\n",
        "    state['t'] += 1\n",
        "    for k in ['learning_rate', 'beta1', 'beta2', 'epsilon']:\n",
        "        assert k in config, config.keys()\n",
        "    \n",
        "    var_index = 0 \n",
        "    lr_t = config['learning_rate'] * np.sqrt(1 - config['beta2']**state['t']) / (1 - config['beta1']**state['t'])\n",
        "    for current_layer_vars, current_layer_grads in zip(variables, gradients): \n",
        "        for current_var, current_grad in zip(current_layer_vars, current_layer_grads):\n",
        "            var_first_moment = state['m'].setdefault(var_index, np.zeros_like(current_grad))\n",
        "            var_second_moment = state['v'].setdefault(var_index, np.zeros_like(current_grad))\n",
        "            \n",
        "            # <YOUR CODE> #\n",
        "            # update `current_var_first_moment`, `var_second_moment` and `current_var` values\n",
        "            np.add(var_first_moment * config['beta1'], (1 - config['beta1']) * current_grad, out=var_first_moment)\n",
        "            np.add(var_second_moment * config['beta2'], (1 - config['beta2']) * current_grad**2, out=var_second_moment)\n",
        "            current_var -= var_first_moment * lr_t / (np.sqrt(var_second_moment) + config['epsilon'])\n",
        "            \n",
        "            # small checks that you've updated the state; use np.add for rewriting np.arrays values\n",
        "            assert var_first_moment is state['m'].get(var_index)\n",
        "            assert var_second_moment is state['v'].get(var_index)\n",
        "            var_index += 1"
      ],
      "metadata": {
        "id": "ynR0nNkOngtw"
      },
      "execution_count": 21,
      "outputs": []
    },
    {
      "cell_type": "markdown",
      "source": [
        "\n",
        "\n",
        "---\n",
        "\n"
      ],
      "metadata": {
        "id": "8jbuQEllv20u"
      }
    },
    {
      "cell_type": "markdown",
      "source": [
        "## Convolutional layers"
      ],
      "metadata": {
        "id": "ANwGPdmxnrom"
      }
    },
    {
      "cell_type": "markdown",
      "source": [
        "### Conv2d **(TODO)**"
      ],
      "metadata": {
        "id": "JnaymjKOn2V7"
      }
    },
    {
      "cell_type": "markdown",
      "source": [
        "- input:   **`batch_size x in_channels x h x w`**\n",
        "- output: **`batch_size x out_channels x h x w`**\n",
        "\n",
        "You should implement something like pytorch `Conv2d` layer with `stride=1` and zero-padding outside of image using `scipy.signal.correlate` function.\n",
        "\n",
        "Practical notes:\n",
        "- While the layer name is \"convolution\", the most of neural network frameworks (including tensorflow and pytorch) implement operation that is called [correlation](https://en.wikipedia.org/wiki/Cross-correlation#Cross-correlation_of_deterministic_signals) in signal processing theory. So **don't use** `scipy.signal.convolve` since it implements [convolution](https://en.wikipedia.org/wiki/Convolution#Discrete_convolution) in terms of signal processing.\n",
        "- It may be convenient to use `skimage.util.pad` for zero-padding.\n",
        "- It's rather ok to implement convolution over 4d array using 2 nested loops: one over batch size dimension and another one over output filters dimension\n",
        "- Having troubles with understanding how to implement the layer? \n",
        " - Check the last year video of lecture 3 (starting from ~1:14:20)\n",
        " - May the google be with you"
      ],
      "metadata": {
        "id": "4XEZKM9knyYw"
      }
    },
    {
      "cell_type": "code",
      "source": [
        "import scipy as sp\n",
        "import scipy.signal\n",
        "import skimage\n",
        "\n",
        "class Conv2d(Module):\n",
        "    def __init__(self, in_channels, out_channels, kernel_size):\n",
        "        super(Conv2d, self).__init__()\n",
        "        assert kernel_size % 2 == 1, kernel_size\n",
        "       \n",
        "        stdv = 1./np.sqrt(in_channels)\n",
        "        self.W = np.random.uniform(-stdv, stdv, size = (out_channels, in_channels, kernel_size, kernel_size))\n",
        "        self.b = np.random.uniform(-stdv, stdv, size=(out_channels,))\n",
        "        self.in_channels = in_channels\n",
        "        self.out_channels = out_channels\n",
        "        self.kernel_size = kernel_size\n",
        "        \n",
        "        self.gradW = np.zeros_like(self.W)\n",
        "        self.gradb = np.zeros_like(self.b)\n",
        "        \n",
        "    def updateOutput(self, input):\n",
        "        pad_size = self.kernel_size // 2\n",
        "        # YOUR CODE ##############################\n",
        "        # 1. zero-pad the input array\n",
        "        # 2. compute convolution using scipy.signal.correlate(... , mode='valid')\n",
        "        # 3. add bias value\n",
        "        \n",
        "        # self.output = ...\n",
        "        \n",
        "        return self.output\n",
        "    \n",
        "    def updateGradInput(self, input, gradOutput):\n",
        "        pad_size = self.kernel_size // 2\n",
        "        # YOUR CODE ##############################\n",
        "        # 1. zero-pad the gradOutput\n",
        "        # 2. compute 'self.gradInput' value using scipy.signal.correlate(... , mode='valid')\n",
        "        \n",
        "        # self.gradInput = ...\n",
        "        \n",
        "        return self.gradInput\n",
        "    \n",
        "    def accGradParameters(self, input, gradOutput):\n",
        "        pad_size = self.kernel_size // 2\n",
        "        # YOUR CODE #############\n",
        "        # 1. zero-pad the input\n",
        "        # 2. compute 'self.gradW' using scipy.signal.correlate(... , mode='valid')\n",
        "        # 3. compute 'self.gradb' - formulas like in Linear of ChannelwiseScaling layers\n",
        "        \n",
        "        # self.gradW = ...\n",
        "        # self.gradb = ...\n",
        "        pass\n",
        "    \n",
        "    def zeroGradParameters(self):\n",
        "        self.gradW.fill(0)\n",
        "        self.gradb.fill(0)\n",
        "        \n",
        "    def getParameters(self):\n",
        "        return [self.W, self.b]\n",
        "    \n",
        "    def getGradParameters(self):\n",
        "        return [self.gradW, self.gradb]\n",
        "    \n",
        "    def __repr__(self):\n",
        "        s = self.W.shape\n",
        "        q = 'Conv2d %d -> %d' %(s[1],s[0])\n",
        "        return q"
      ],
      "metadata": {
        "id": "GOyQInPHn36P"
      },
      "execution_count": 22,
      "outputs": []
    },
    {
      "cell_type": "markdown",
      "source": [
        "### MaxPool2d **(TODO)**"
      ],
      "metadata": {
        "id": "TXEpq9Won-fQ"
      }
    },
    {
      "cell_type": "markdown",
      "source": [
        "\n",
        "- input:   **`batch_size x n_input_channels x h x w`**\n",
        "- output: **`batch_size x n_output_channels x h // kern_size x w // kern_size`**\n",
        "\n",
        "You are to implement simplified version of pytorch `MaxPool2d` layer with stride = kernel_size. Please note, that it's not a common case that stride = kernel_size: in AlexNet and ResNet kernel_size for max-pooling was set to 3, while stride was set to 2. We introduce this restriction to make implementation simplier.\n",
        "\n",
        "Practical notes:\n",
        "- During forward pass what you need to do is just to reshape the input tensor to `[n, c, h / kern_size, kern_size, w / kern_size, kern_size]`, swap two axes and take maximums over the last two dimensions. Reshape + axes swap is sometimes called space-to-batch transform.\n",
        "- During backward pass you need to place the gradients in positions of maximal values taken during the forward pass\n",
        "- In real frameworks the indices of maximums are stored in memory during the forward pass. It is cheaper than to keep the layer input in memory and recompute the maximums.\n"
      ],
      "metadata": {
        "id": "kE6NTKepoA57"
      }
    },
    {
      "cell_type": "code",
      "source": [
        "class MaxPool2d(Module):\n",
        "    def __init__(self, kernel_size):\n",
        "        super(MaxPool2d, self).__init__()\n",
        "        self.kernel_size = kernel_size\n",
        "        self.gradInput = None\n",
        "                    \n",
        "    def updateOutput(self, input):\n",
        "        input_h, input_w = input.shape[-2:]\n",
        "        # your may remove these asserts and implement MaxPool2d with padding\n",
        "        assert input_h % self.kernel_size == 0  \n",
        "        assert input_w % self.kernel_size == 0\n",
        "        \n",
        "        # YOUR CODE #############################\n",
        "        # self.output = ...\n",
        "        # self.max_indices = ...\n",
        "        return self.output\n",
        "    \n",
        "    def updateGradInput(self, input, gradOutput):\n",
        "        # YOUR CODE #############################\n",
        "        # self.gradInput = ...\n",
        "        return self.gradInput\n",
        "    \n",
        "    def __repr__(self):\n",
        "        q = 'MaxPool2d, kern %d, stride %d' %(self.kernel_size, self.kernel_size)\n",
        "        return q"
      ],
      "metadata": {
        "id": "FE01hpCuoDIC"
      },
      "execution_count": 23,
      "outputs": []
    },
    {
      "cell_type": "markdown",
      "source": [
        "### Flatten layer"
      ],
      "metadata": {
        "id": "avRbAqnyoGvJ"
      }
    },
    {
      "cell_type": "markdown",
      "source": [
        "Just reshapes inputs and gradients. It's usually used as proxy layer between Conv2d and Linear.\n"
      ],
      "metadata": {
        "id": "g6WSJ1OjoKgM"
      }
    },
    {
      "cell_type": "code",
      "source": [
        "class Flatten(Module):\n",
        "    def __init__(self):\n",
        "         super(Flatten, self).__init__()\n",
        "    \n",
        "    def updateOutput(self, input):\n",
        "        self.output = input.reshape(len(input), -1)\n",
        "        return self.output\n",
        "    \n",
        "    def updateGradInput(self, input, gradOutput):\n",
        "        self.gradInput = gradOutput.reshape(input.shape)\n",
        "        return self.gradInput\n",
        "    \n",
        "    def __repr__(self):\n",
        "        return \"Flatten\""
      ],
      "metadata": {
        "id": "2svgARD5oMK-"
      },
      "execution_count": 24,
      "outputs": []
    },
    {
      "cell_type": "markdown",
      "source": [
        "\n",
        "\n",
        "---\n",
        "\n"
      ],
      "metadata": {
        "id": "5Dh7dMfUvxov"
      }
    },
    {
      "cell_type": "markdown",
      "metadata": {
        "id": "PA4JIiOHb9HQ"
      },
      "source": [
        "# Toy example"
      ]
    },
    {
      "cell_type": "markdown",
      "metadata": {
        "id": "ExOy__msb9HQ"
      },
      "source": [
        "Use this example to debug your code, start with logistic regression and then test other layers. You do not need to change anything here. This code is provided for you to test the layers. Also it is easy to use this code in MNIST task."
      ]
    },
    {
      "cell_type": "code",
      "execution_count": 25,
      "metadata": {
        "scrolled": false,
        "colab": {
          "base_uri": "https://localhost:8080/",
          "height": 450
        },
        "id": "e_kjOzQbb9HQ",
        "outputId": "364d1036-6732-4b86-87eb-30c2a3485200"
      },
      "outputs": [
        {
          "output_type": "execute_result",
          "data": {
            "text/plain": [
              "<matplotlib.collections.PathCollection at 0x7f211cdc2d10>"
            ]
          },
          "metadata": {},
          "execution_count": 25
        },
        {
          "output_type": "display_data",
          "data": {
            "text/plain": [
              "<Figure size 640x480 with 1 Axes>"
            ],
            "image/png": "[encoded data removed]"
          },
          "metadata": {}
        }
      ],
      "source": [
        "from sklearn.metrics import accuracy_score\n",
        "from tqdm import tqdm\n",
        "# Generate some data\n",
        "N = 500\n",
        "\n",
        "X1 = np.random.randn(N,2) + np.array([2,2])\n",
        "X2 = np.random.randn(N,2) + np.array([-2,-2])\n",
        "\n",
        "Y = np.concatenate([np.ones(N),np.zeros(N)])[:,None]\n",
        "Y = np.hstack([Y, 1-Y])\n",
        "\n",
        "X = np.vstack([X1,X2])\n",
        "plt.scatter(X[:,0],X[:,1], c = Y[:,0], edgecolors= 'none')"
      ]
    },
    {
      "cell_type": "markdown",
      "metadata": {
        "id": "9xSnjGlPb9HS"
      },
      "source": [
        "Define a **logistic regression** for debugging. "
      ]
    },
    {
      "cell_type": "code",
      "execution_count": 30,
      "metadata": {
        "colab": {
          "base_uri": "https://localhost:8080/"
        },
        "id": "gyUbjTgpb9HS",
        "outputId": "dba6ef3e-032a-4a67-b6bf-33b7a0a2948d"
      },
      "outputs": [
        {
          "output_type": "stream",
          "name": "stdout",
          "text": [
            "Linear 2 -> 2\n",
            "LogSoftMax\n",
            "\n"
          ]
        }
      ],
      "source": [
        "net = Sequential()\n",
        "net.add(Linear(2, 2))\n",
        "net.add(LogSoftMax())\n",
        "\n",
        "criterion = ClassNLLCriterion()\n",
        "\n",
        "print(net)\n",
        "\n",
        "# Test something like that then \n",
        "\n",
        "# net = Sequential()\n",
        "# net.add(Linear(2, 4))\n",
        "# net.add(ReLU())\n",
        "# net.add(Linear(4, 2))\n",
        "# net.add(LogSoftMax())"
      ]
    },
    {
      "cell_type": "markdown",
      "metadata": {
        "id": "nQimRVFwb9HS"
      },
      "source": [
        "Start with batch_size = 1000 to make sure every step lowers the loss, then try stochastic version."
      ]
    },
    {
      "cell_type": "code",
      "execution_count": 27,
      "metadata": {
        "id": "FzZ0tER2b9HT"
      },
      "outputs": [],
      "source": [
        "# Optimizer params\n",
        "optimizer_config = {'learning_rate' : 1e-1}\n",
        "optimizer_state = {}\n",
        "\n",
        "# Looping params\n",
        "n_epoch = 20\n",
        "batch_size = 128"
      ]
    },
    {
      "cell_type": "code",
      "execution_count": 28,
      "metadata": {
        "id": "oGM0rGTgb9HT"
      },
      "outputs": [],
      "source": [
        "# batch generator\n",
        "def get_batches(dataset, batch_size):\n",
        "    X, Y = dataset\n",
        "    n_samples = X.shape[0]\n",
        "        \n",
        "    # Shuffle at the start of epoch\n",
        "    indices = np.arange(n_samples)\n",
        "    np.random.shuffle(indices)\n",
        "    \n",
        "    for start in range(0, n_samples, batch_size):\n",
        "        end = min(start + batch_size, n_samples)\n",
        "        \n",
        "        batch_idx = indices[start:end]\n",
        "    \n",
        "        yield X[batch_idx], Y[batch_idx]"
      ]
    },
    {
      "cell_type": "markdown",
      "metadata": {
        "id": "Eg312Bh_b9HT"
      },
      "source": [
        "### Train"
      ]
    },
    {
      "cell_type": "markdown",
      "metadata": {
        "id": "Z9B2u8jRb9HU"
      },
      "source": [
        "Basic training loop. Examine it."
      ]
    },
    {
      "cell_type": "code",
      "execution_count": 31,
      "metadata": {
        "scrolled": false,
        "colab": {
          "base_uri": "https://localhost:8080/",
          "height": 599
        },
        "id": "sRL9X0Dtb9HU",
        "outputId": "ad252a6c-0583-408f-b7f7-851cecc6c181"
      },
      "outputs": [
        {
          "output_type": "display_data",
          "data": {
            "text/plain": [
              "<Figure size 800x600 with 1 Axes>"
            ],
            "image/png": "[encoded data removed]"
          },
          "metadata": {}
        },
        {
          "output_type": "stream",
          "name": "stderr",
          "text": [
            "100%|██████████| 20/20 [00:08<00:00,  2.42it/s]"
          ]
        },
        {
          "output_type": "stream",
          "name": "stdout",
          "text": [
            "Current loss: 0.013512\n"
          ]
        },
        {
          "output_type": "stream",
          "name": "stderr",
          "text": [
            "\n"
          ]
        }
      ],
      "source": [
        "loss_history = []\n",
        "\n",
        "for i in tqdm(range(n_epoch)):\n",
        "    for x_batch, y_batch in tqdm(get_batches((X, Y), batch_size)):\n",
        "        \n",
        "        net.zeroGradParameters()\n",
        "        \n",
        "        # Forward\n",
        "        predictions = net.forward(x_batch)\n",
        "        loss = criterion.forward(predictions, y_batch)\n",
        "    \n",
        "        # Backward\n",
        "        dp = criterion.backward(predictions, y_batch)\n",
        "        net.backward(x_batch, dp)\n",
        "        \n",
        "        # Update weights\n",
        "        simple_sgd(net.getParameters(), \n",
        "                   net.getGradParameters(), \n",
        "                   optimizer_config,\n",
        "                   optimizer_state)      \n",
        "        \n",
        "        loss_history.append(loss)\n",
        "\n",
        "    # Visualize\n",
        "    display.clear_output(wait=True)\n",
        "    plt.figure(figsize=(8, 6))\n",
        "        \n",
        "    plt.title(\"Training loss\")\n",
        "    plt.xlabel(\"#iteration\")\n",
        "    plt.ylabel(\"loss\")\n",
        "    plt.plot(loss_history, 'b')\n",
        "    plt.show()\n",
        "    \n",
        "    print('Current loss: %f' % loss)    "
      ]
    },
    {
      "cell_type": "markdown",
      "metadata": {
        "id": "Ji8mNJE-b9HU"
      },
      "source": [
        "# Digit classification "
      ]
    },
    {
      "cell_type": "markdown",
      "metadata": {
        "id": "lprzyN5mb9HU"
      },
      "source": [
        "We are using old good [MNIST](http://yann.lecun.com/exdb/mnist/) as our dataset."
      ]
    },
    {
      "cell_type": "code",
      "execution_count": 32,
      "metadata": {
        "colab": {
          "base_uri": "https://localhost:8080/"
        },
        "id": "Gq9jM38lb9HU",
        "outputId": "2114a871-c5f1-4ccf-93e8-3c89ccbf0441"
      },
      "outputs": [
        {
          "output_type": "stream",
          "name": "stdout",
          "text": [
            "--2023-05-13 02:32:51--  https://raw.githubusercontent.com/blnglishPlease/ML-and-DL/main/materials/week07_intro_to_DL/mnist.py\n",
            "Resolving raw.githubusercontent.com (raw.githubusercontent.com)... 185.199.111.133, 185.199.109.133, 185.199.110.133, ...\n",
            "Connecting to raw.githubusercontent.com (raw.githubusercontent.com)|185.199.111.133|:443... connected.\n",
            "HTTP request sent, awaiting response... 200 OK\n",
            "Length: 2693 (2.6K) [text/plain]\n",
            "Saving to: ‘mnist.py.3’\n",
            "\n",
            "\rmnist.py.3            0%[                    ]       0  --.-KB/s               \rmnist.py.3          100%[===================>]   2.63K  --.-KB/s    in 0s      \n",
            "\n",
            "2023-05-13 02:32:51 (36.2 MB/s) - ‘mnist.py.3’ saved [2693/2693]\n",
            "\n"
          ]
        }
      ],
      "source": [
        "! wget https://raw.githubusercontent.com/blnglishPlease/ML-and-DL/main/materials/week07_intro_to_DL/mnist.py\n",
        "\n",
        "import mnist\n",
        "X_train, y_train, X_val, y_val, X_test, y_test = mnist.load_dataset()"
      ]
    },
    {
      "cell_type": "markdown",
      "metadata": {
        "id": "fOdrfKvWb9HV"
      },
      "source": [
        "One-hot encode the labels first."
      ]
    },
    {
      "cell_type": "code",
      "execution_count": 33,
      "metadata": {
        "colab": {
          "base_uri": "https://localhost:8080/"
        },
        "id": "n1CRKhZbb9HV",
        "outputId": "275ffc22-25ac-4c4f-be2c-feaa4619d659"
      },
      "outputs": [
        {
          "output_type": "stream",
          "name": "stderr",
          "text": [
            "/usr/local/lib/python3.10/dist-packages/sklearn/preprocessing/_encoders.py:868: FutureWarning: `sparse` was renamed to `sparse_output` in version 1.2 and will be removed in 1.4. `sparse_output` is ignored unless you leave `sparse` to its default value.\n",
            "  warnings.warn(\n"
          ]
        }
      ],
      "source": [
        "from sklearn.preprocessing import OneHotEncoder\n",
        "\n",
        "X_train = np.expand_dims(X_train, 1)\n",
        "X_val = np.expand_dims(X_val, 1)\n",
        "X_test = np.expand_dims(X_test, 1)\n",
        "\n",
        "encoder = OneHotEncoder(categories='auto', sparse=False)\n",
        "\n",
        "y_train = encoder.fit_transform(y_train.reshape(-1, 1))"
      ]
    },
    {
      "cell_type": "code",
      "execution_count": 34,
      "metadata": {
        "id": "06ucfmYfb9HV"
      },
      "outputs": [],
      "source": [
        "X_train, X_val, X_test = list(map(lambda x: x.reshape((x.shape[0], -1)), [X_train, X_val, X_test]))"
      ]
    },
    {
      "cell_type": "code",
      "execution_count": 35,
      "metadata": {
        "colab": {
          "base_uri": "https://localhost:8080/"
        },
        "id": "5x63TN-bb9HV",
        "outputId": "b7ba46ed-8fbe-4f66-b3da-a3142b5bbce5"
      },
      "outputs": [
        {
          "output_type": "execute_result",
          "data": {
            "text/plain": [
              "(50000, 784)"
            ]
          },
          "metadata": {},
          "execution_count": 35
        }
      ],
      "source": [
        "X_train.shape"
      ]
    },
    {
      "cell_type": "code",
      "execution_count": 36,
      "metadata": {
        "colab": {
          "base_uri": "https://localhost:8080/"
        },
        "id": "r55P2AjUb9HW",
        "outputId": "f296c342-1f34-47b3-a371-f701c3d12564"
      },
      "outputs": [
        {
          "output_type": "stream",
          "name": "stdout",
          "text": [
            "Linear 784 -> 128\n",
            "ReLU\n",
            "Linear 128 -> 10\n",
            "LogSoftMax\n",
            "\n"
          ]
        }
      ],
      "source": [
        "net = Sequential()\n",
        "net.add(Linear(784, 128))\n",
        "net.add(ReLU())\n",
        "net.add(Linear(128, 10))\n",
        "net.add(LogSoftMax())\n",
        "\n",
        "criterion = ClassNLLCriterion()\n",
        "\n",
        "print(net)"
      ]
    },
    {
      "cell_type": "code",
      "execution_count": 37,
      "metadata": {
        "id": "eOlMVHqeb9HW"
      },
      "outputs": [],
      "source": [
        "# Optimizer params\n",
        "optimizer_config = {'learning_rate' : 3e-3, 'beta1': 0.99, 'beta2': 0.99, 'epsilon': 1e-5}\n",
        "optimizer_state = {}\n",
        "\n",
        "# Looping params\n",
        "n_epoch = 20\n",
        "batch_size = 128"
      ]
    },
    {
      "cell_type": "code",
      "execution_count": null,
      "metadata": {
        "colab": {
          "base_uri": "https://localhost:8080/",
          "height": 581
        },
        "id": "grRGD1fDb9HW",
        "outputId": "1f8c9122-9b7f-4552-94ce-eac8a0de396b"
      },
      "outputs": [
        {
          "output_type": "display_data",
          "data": {
            "text/plain": [
              "<Figure size 1600x600 with 2 Axes>"
            ],
            "image/png": "[encoded data removed]"
          },
          "metadata": {}
        },
        {
          "output_type": "stream",
          "name": "stderr",
          "text": [
            "\r  5%|▌         | 1/20 [00:33<10:37, 33.57s/it]"
          ]
        },
        {
          "output_type": "stream",
          "name": "stdout",
          "text": [
            "Current loss: 1.899141\n"
          ]
        }
      ],
      "source": [
        "from sklearn.metrics import accuracy_score\n",
        "from tqdm import tqdm\n",
        "\n",
        "loss_history = []\n",
        "accuracy_history = []\n",
        "\n",
        "for i in tqdm(range(n_epoch)):\n",
        "    net.train()\n",
        "    for x_batch, y_batch in get_batches((X_train, y_train), batch_size):\n",
        "        \n",
        "        net.zeroGradParameters()\n",
        "        \n",
        "        # Forward\n",
        "        predictions = net.forward(x_batch)\n",
        "        loss = criterion.forward(predictions, y_batch)\n",
        "    \n",
        "        # Backward\n",
        "        dp = criterion.backward(predictions, y_batch)\n",
        "        net.backward(x_batch, dp)\n",
        "        \n",
        "        # Update weights\n",
        "        simple_sgd(net.getParameters(), \n",
        "                     net.getGradParameters(), \n",
        "                     optimizer_config,\n",
        "                     optimizer_state)      \n",
        "        \n",
        "        loss_history.append(loss)\n",
        "    \n",
        "    net.evaluate()\n",
        "    accuracy_history.append(accuracy_score(net.forward(X_val).argmax(axis=-1), y_val))\n",
        "    \n",
        "    # Visualize\n",
        "    display.clear_output(wait=True)\n",
        "    plt.figure(figsize=(16, 6))\n",
        "    \n",
        "    plt.subplot(1, 2, 1)    \n",
        "    plt.title(\"Training loss\")\n",
        "    plt.xlabel(\"#iteration\")\n",
        "    plt.ylabel(\"loss\")\n",
        "    plt.plot(loss_history, 'b')\n",
        "    \n",
        "    plt.subplot(1, 2, 2)\n",
        "    plt.title(\"Val accuracy\")\n",
        "    plt.xlabel(\"#epoch\")\n",
        "    plt.ylabel(\"accuracy\")\n",
        "    plt.plot(accuracy_history, 'b')\n",
        "    plt.show()\n",
        "    \n",
        "    print('Current loss: %f' % loss)   "
      ]
    }
  ],
  "metadata": {
    "kernelspec": {
      "display_name": "Py3 research env",
      "language": "python",
      "name": "py3_research"
    },
    "language_info": {
      "codemirror_mode": {
        "name": "ipython",
        "version": 3
      },
      "file_extension": ".py",
      "mimetype": "text/x-python",
      "name": "python",
      "nbconvert_exporter": "python",
      "pygments_lexer": "ipython3",
      "version": "3.6.7"
    },
    "colab": {
      "provenance": [],
      "toc_visible": true
    }
  },
  "nbformat": 4,
  "nbformat_minor": 0
}